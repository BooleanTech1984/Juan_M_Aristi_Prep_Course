{
 "cells": [
  {
   "cell_type": "code",
   "execution_count": null,
   "metadata": {},
   "outputs": [],
   "source": []
  },
  {
   "cell_type": "code",
   "execution_count": 12,
   "metadata": {},
   "outputs": [],
   "source": [
    "class Gato:\n",
    "    def __init__(self, nombre, edad, raza, sexo):\n",
    "        self.nombre = nombre\n",
    "        self.edad = edad\n",
    "        self.raza = raza\n",
    "        self.sexo = sexo\n",
    "\n",
    "    def presentar(self):\n",
    "        return print(f'Mi nombre es: {self.nombre}, tengo: {self.edad} años de edad, soy de raza {self.raza} y soy {self.sexo}')"
   ]
  },
  {
   "cell_type": "code",
   "execution_count": 13,
   "metadata": {},
   "outputs": [],
   "source": [
    "gato1 = Gato('Mirrin', 3, 'criollo', 'macho' )"
   ]
  },
  {
   "cell_type": "code",
   "execution_count": 14,
   "metadata": {},
   "outputs": [
    {
     "name": "stdout",
     "output_type": "stream",
     "text": [
      "Mi nombre es: Mirrin, tengo: 3 años de edad, soy de raza criollo y soy macho\n"
     ]
    }
   ],
   "source": [
    "gato1.presentar()"
   ]
  },
  {
   "cell_type": "code",
   "execution_count": 16,
   "metadata": {},
   "outputs": [],
   "source": [
    "gato2 = Gato('Michin', 4, 'Siames', 'hembra')"
   ]
  },
  {
   "cell_type": "code",
   "execution_count": 17,
   "metadata": {},
   "outputs": [
    {
     "name": "stdout",
     "output_type": "stream",
     "text": [
      "Mi nombre es: Michin, tengo: 4 años de edad, soy de raza Siames y soy hembra\n"
     ]
    }
   ],
   "source": [
    "gato2.presentar()"
   ]
  },
  {
   "cell_type": "code",
   "execution_count": 40,
   "metadata": {},
   "outputs": [],
   "source": [
    "class Animal:\n",
    "    def __init__(self, edad, especie, color):\n",
    "        self.edad = edad\n",
    "        self.especie = especie\n",
    "        self.color = color\n",
    "\n",
    "    def mepresento(self):\n",
    "        print(f'Hola soy {self.especie}, tengo {self.edad} años y soy de color {self.color}')\n",
    "\n",
    "    def cumpliraños(self):\n",
    "        self.edad = self.edad +1"
   ]
  },
  {
   "cell_type": "code",
   "execution_count": 41,
   "metadata": {},
   "outputs": [],
   "source": [
    "a1 = Animal(3,'Raton', 'Gris')\n",
    "a2 = Animal(5, 'Liebre', 'Blanco')"
   ]
  },
  {
   "cell_type": "code",
   "execution_count": 42,
   "metadata": {},
   "outputs": [
    {
     "name": "stdout",
     "output_type": "stream",
     "text": [
      "Raton\n",
      "3\n",
      "Liebre\n",
      "5\n"
     ]
    }
   ],
   "source": [
    "print(a1.especie)\n",
    "print(a1.edad)\n",
    "print(a2.especie)\n",
    "print(a2.edad)"
   ]
  },
  {
   "cell_type": "code",
   "execution_count": 43,
   "metadata": {},
   "outputs": [
    {
     "name": "stdout",
     "output_type": "stream",
     "text": [
      "Hola soy Raton, tengo 3 años y soy de color Gris\n"
     ]
    }
   ],
   "source": [
    "a1.mepresento()\n"
   ]
  },
  {
   "cell_type": "code",
   "execution_count": 44,
   "metadata": {},
   "outputs": [
    {
     "name": "stdout",
     "output_type": "stream",
     "text": [
      "Hola soy Liebre, tengo 5 años y soy de color Blanco\n"
     ]
    }
   ],
   "source": [
    "a2.mepresento()"
   ]
  },
  {
   "cell_type": "code",
   "execution_count": 47,
   "metadata": {},
   "outputs": [],
   "source": [
    "a1.cumpliraños()"
   ]
  },
  {
   "cell_type": "code",
   "execution_count": 46,
   "metadata": {},
   "outputs": [],
   "source": [
    "a2.cumpliraños()"
   ]
  },
  {
   "cell_type": "code",
   "execution_count": 49,
   "metadata": {},
   "outputs": [
    {
     "name": "stdout",
     "output_type": "stream",
     "text": [
      "Hola soy Raton, tengo 4 años y soy de color Gris\n"
     ]
    }
   ],
   "source": [
    "a1.mepresento()"
   ]
  },
  {
   "cell_type": "code",
   "execution_count": 66,
   "metadata": {},
   "outputs": [],
   "source": [
    " class Animal1:\n",
    "    def __init__(self, edad, especie):\n",
    "        self.edad = edad\n",
    "        self.especie = especie\n",
    "\n",
    "    def hablar(self):\n",
    "        pass\n",
    "\n",
    "    def moverse(self):\n",
    "        pass\n",
    "\n",
    "    def describeme(self):\n",
    "        print(f'Soy un animal del tipo: {type(self).__name__}')"
   ]
  },
  {
   "cell_type": "code",
   "execution_count": 83,
   "metadata": {},
   "outputs": [],
   "source": [
    "class Perro(Animal1):\n",
    "    pass"
   ]
  },
  {
   "cell_type": "code",
   "execution_count": 84,
   "metadata": {},
   "outputs": [
    {
     "name": "stdout",
     "output_type": "stream",
     "text": [
      "Soy un animal del tipo: Perro\n"
     ]
    }
   ],
   "source": [
    "mi_perro = Perro('mamifero', 10)\n",
    "mi_perro.describeme()"
   ]
  },
  {
   "cell_type": "code",
   "execution_count": 82,
   "metadata": {},
   "outputs": [],
   "source": [
    "class Perro(Animal1):\n",
    "    def hablar(self):\n",
    "        print('Guau')\n",
    "\n",
    "    def moverse(self):\n",
    "        print('en cuatro patas')"
   ]
  },
  {
   "cell_type": "code",
   "execution_count": 81,
   "metadata": {},
   "outputs": [],
   "source": [
    "class Vaca(Animal1):\n",
    "    def hablar(self):\n",
    "        print('Muuu')\n",
    "\n",
    "    def moverse(self):\n",
    "        print('en cuatro patas')"
   ]
  },
  {
   "cell_type": "code",
   "execution_count": 80,
   "metadata": {},
   "outputs": [],
   "source": [
    "class Abeja(Animal1):\n",
    "    def hablar(self):\n",
    "        print('Bzzz')\n",
    "\n",
    "    def moverse(self):\n",
    "        print('Volando')\n",
    "\n",
    "    def picar(self):\n",
    "        print('picar!')\n"
   ]
  },
  {
   "cell_type": "code",
   "execution_count": 90,
   "metadata": {},
   "outputs": [
    {
     "name": "stdout",
     "output_type": "stream",
     "text": [
      "Soy un animal del tipo: Abeja\n"
     ]
    }
   ],
   "source": [
    "mi_abeja = Abeja('Ínsecto', 1)\n",
    "mi_vaca = Vaca('mamifero', 4)\n",
    "mi_abeja.describeme()"
   ]
  },
  {
   "cell_type": "code",
   "execution_count": 91,
   "metadata": {},
   "outputs": [
    {
     "name": "stdout",
     "output_type": "stream",
     "text": [
      "Bzzz\n",
      "Muuu\n"
     ]
    }
   ],
   "source": [
    "mi_abeja.hablar()\n",
    "mi_vaca.hablar()"
   ]
  }
 ],
 "metadata": {
  "kernelspec": {
   "display_name": "Python 3",
   "language": "python",
   "name": "python3"
  },
  "language_info": {
   "codemirror_mode": {
    "name": "ipython",
    "version": 3
   },
   "file_extension": ".py",
   "mimetype": "text/x-python",
   "name": "python",
   "nbconvert_exporter": "python",
   "pygments_lexer": "ipython3",
   "version": "3.11.9"
  }
 },
 "nbformat": 4,
 "nbformat_minor": 2
}
