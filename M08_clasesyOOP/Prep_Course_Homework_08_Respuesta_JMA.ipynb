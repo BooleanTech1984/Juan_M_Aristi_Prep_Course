{
 "cells": [
  {
   "attachments": {},
   "cell_type": "markdown",
   "metadata": {},
   "source": [
    "## Clases y Programación Orientada a Objetos"
   ]
  },
  {
   "attachments": {},
   "cell_type": "markdown",
   "metadata": {},
   "source": [
    "1) Crear la clase vehículo que contenga los atributos:<br>\n",
    "Color<br>\n",
    "Si es moto, auto, camioneta ó camión<br>\n",
    "Cilindrada del motor"
   ]
  },
  {
   "cell_type": "code",
   "execution_count": 1,
   "metadata": {},
   "outputs": [],
   "source": [
    "class Vehiculo:\n",
    "    def __init__(self, color, tipo, cilindrada):\n",
    "        self.color = color\n",
    "        self.tipo = tipo\n",
    "        self.cilindrada = cilindrada\n"
   ]
  },
  {
   "attachments": {},
   "cell_type": "markdown",
   "metadata": {},
   "source": [
    "2) A la clase Vehiculo creada en el punto 1, agregar los siguientes métodos:<br>\n",
    "Acelerar<br>\n",
    "Frenar<br>\n",
    "Doblar<br>"
   ]
  },
  {
   "cell_type": "code",
   "execution_count": 2,
   "metadata": {},
   "outputs": [],
   "source": [
    "class Vehiculo:\n",
    "    def __init__(self, color, tipo, cilindrada):\n",
    "        self.color = color\n",
    "        self.tipo = tipo\n",
    "        self.cilindrada = cilindrada\n",
    "        self.velocidad = 0\n",
    "        self.direccion = 0\n",
    "\n",
    "    def acelerar(self, vel):\n",
    "        self.velocidad += vel\n",
    "\n",
    "    def frenar(self, vel):\n",
    "        self.velocidad -= vel\n",
    "\n",
    "    def doblar_der(self, grados):\n",
    "        self.direccion += grados\n",
    "\n",
    "    def doblar_izq(self, grados):\n",
    "        self.direccion -= grados"
   ]
  },
  {
   "attachments": {},
   "cell_type": "markdown",
   "metadata": {},
   "source": [
    "3) Instanciar 3 objetos de la clase vehículo y ejecutar sus métodos, probar luego el resultado"
   ]
  },
  {
   "cell_type": "code",
   "execution_count": 3,
   "metadata": {},
   "outputs": [],
   "source": [
    "Mazda = Vehiculo('rojo', 'carro', '5.0L')\n",
    "Renault = Vehiculo('azul', 'camioneta', '3.0L')\n",
    "Yamaha = Vehiculo('negro', 'moto', '1.0L')"
   ]
  },
  {
   "cell_type": "code",
   "execution_count": 8,
   "metadata": {},
   "outputs": [],
   "source": [
    "Mazda.acelerar(40)\n",
    "Renault.acelerar(30)\n",
    "Yamaha.acelerar(60)\n",
    "\n",
    "Mazda.doblar_der(90)\n",
    "Renault.doblar_der(60)\n",
    "Yamaha.doblar_izq(40)\n",
    "\n",
    "\n",
    "\n"
   ]
  },
  {
   "attachments": {},
   "cell_type": "markdown",
   "metadata": {},
   "source": [
    "4) Agregar a la clase Vehiculo, un método que muestre su estado, es decir, a que velocidad se encuentra y su dirección. Y otro método que muestre color, tipo y cilindrada"
   ]
  },
  {
   "cell_type": "code",
   "execution_count": 5,
   "metadata": {},
   "outputs": [],
   "source": [
    "class Vehiculo:\n",
    "    def __init__(self, color, tipo, cilindrada):\n",
    "        self.color = color\n",
    "        self.tipo = tipo\n",
    "        self.cilindrada = cilindrada\n",
    "        self.velocidad = 0\n",
    "        self.direccion = 0\n",
    "        self.orientacion = 'centro'\n",
    "\n",
    "    def acelerar(self, vel):\n",
    "        self.velocidad += vel\n",
    "\n",
    "    def frenar(self, vel):\n",
    "        self.velocidad -= vel\n",
    "\n",
    "    def doblar_der(self, grados):\n",
    "        self.direccion += grados\n",
    "\n",
    "    def doblar_izq(self, grados):\n",
    "        self.direccion -= grados\n",
    "\n",
    "    def mostrar_estado(self):\n",
    "        if self.direccion > 90:\n",
    "            self.orientacion = 'derecha'\n",
    "        elif self.direccion == 90:\n",
    "            self.orientacion = 'centro'\n",
    "        else: \n",
    "            self.orientacion = 'izquierda'\n",
    "        print(f'Velocidad es {self.velocidad} y direccion {self.orientacion}')\n",
    "    \n",
    "    def mostrar_caract(self):\n",
    "        print(f'Color: {self.color}, tipo: {self.tipo}, cilindrada: {self.cilindrada}')\n"
   ]
  },
  {
   "cell_type": "code",
   "execution_count": 9,
   "metadata": {},
   "outputs": [
    {
     "ename": "AttributeError",
     "evalue": "'Vehiculo' object has no attribute 'mostrar_estado'",
     "output_type": "error",
     "traceback": [
      "\u001b[1;31m---------------------------------------------------------------------------\u001b[0m",
      "\u001b[1;31mAttributeError\u001b[0m                            Traceback (most recent call last)",
      "Cell \u001b[1;32mIn[9], line 1\u001b[0m\n\u001b[1;32m----> 1\u001b[0m \u001b[43mMazda\u001b[49m\u001b[38;5;241;43m.\u001b[39;49m\u001b[43mmostrar_estado\u001b[49m()\n\u001b[0;32m      2\u001b[0m Renault\u001b[38;5;241m.\u001b[39mmostrar_caract()\n",
      "\u001b[1;31mAttributeError\u001b[0m: 'Vehiculo' object has no attribute 'mostrar_estado'"
     ]
    }
   ],
   "source": [
    "Mazda.mostrar_estado()\n",
    "Renault.mostrar_caract()"
   ]
  },
  {
   "attachments": {},
   "cell_type": "markdown",
   "metadata": {},
   "source": [
    "5) Crear una clase que permita utilizar las funciones creadas en la práctica del módulo 7<br>\n",
    "Verificar Primo<br>\n",
    "Valor modal<br>\n",
    "Conversión grados<br>\n",
    "Factorial<br>"
   ]
  },
  {
   "cell_type": "code",
   "execution_count": null,
   "metadata": {},
   "outputs": [],
   "source": [
    "class herramientas:\n",
    "    def __init__(self) -> None:\n",
    "        pass\n",
    "    \n",
    "    def verif_prim(self, num):\n",
    "        si_primo = True\n",
    "        for i in range(2, num):\n",
    "            if num % i == 0:\n",
    "                si_primo = False\n",
    "                break\n",
    "        return si_primo     \n",
    "\n",
    "    def lista_num(self, lista2):\n",
    "        lis_unicos = []\n",
    "        lis_repet = []\n",
    "        for elem in lista2:\n",
    "            if elem in lis_unicos:\n",
    "                i = lis_unicos.index(elem)\n",
    "                lis_repet[i] += 1\n",
    "            else:\n",
    "                lis_unicos.append(elem)\n",
    "                lis_repet.append(1)\n",
    "        moda = lis_unicos[0]\n",
    "        maxi = lis_repet[0]\n",
    "        for i, elem in enumerate(lis_unicos):\n",
    "            if lis_repet[i] > maxi:\n",
    "                moda = lis_unicos[i]\n",
    "                maxi = lis_repet[i]\n",
    "\n",
    "        return moda, maxi\n",
    "\n",
    "    def conver_temp(self, valor, temp_1, temp_2):\n",
    "\n",
    "        if temp_1 == 'celsius':\n",
    "            if temp_2 == 'celsius':\n",
    "                valor_temp_2 = valor  \n",
    "            elif temp_2 == 'farenheit':\n",
    "                valor_temp_2 = (valor * 9 / 5) + 32  \n",
    "            elif temp_2 == 'kelvin':\n",
    "                valor_temp_2 = valor + 273.15  \n",
    "            else:\n",
    "                print('Parámetro de Temp_2 incorrecto')  \n",
    "        elif temp_1 == 'farenheit':\n",
    "            if temp_2 == 'celsius':\n",
    "                valor_temp_2 = (valor - 32) * 5 / 9  \n",
    "            elif temp_2 == 'farenheit':\n",
    "                valor_temp_2 = valor  \n",
    "            elif temp_2 == 'kelvin':\n",
    "                valor_temp_2 = ((valor - 32) * 5 / 9) + 273.15  \n",
    "            else:\n",
    "                print('Parámetro de Temp_2 incorrecto')  \n",
    "        elif temp_1 == 'kelvin':\n",
    "            if temp_2 == 'celsius':\n",
    "                valor_temp_2 = valor - 273.15 \n",
    "            elif temp_2 == 'farenheit':\n",
    "                valor_temp_2 = ((valor - 273.15) * 9 / 5) + 32  \n",
    "            elif temp_2 == 'kelvin':\n",
    "                valor_temp_2 = valor  \n",
    "            else:\n",
    "                print('Parámetro de Temp_2 incorrecto')  \n",
    "        else:\n",
    "            print('Parámetro de Temp_1 incorrecto') \n",
    "        \n",
    "        return valor_temp_2  \n",
    "    \n",
    "    def factorial_num(self, num):\n",
    "        factor = 1\n",
    "        if type(num) == int:\n",
    "            if num == 0:\n",
    "                print('El factorial es 1')\n",
    "            elif num > 0:\n",
    "                for i in range(2, (num + 1)):\n",
    "                    factor *= i\n",
    "                print(f'El factorial de {num} es {factor}')\n",
    "            else:\n",
    "                    print('El numero es menor a cero, no tiene factorial')\n",
    "        else:\n",
    "            print('el numero no es un entero') "
   ]
  },
  {
   "attachments": {},
   "cell_type": "markdown",
   "metadata": {},
   "source": [
    "6) Probar las funciones incorporadas en la clase del punto 5"
   ]
  },
  {
   "cell_type": "code",
   "execution_count": null,
   "metadata": {},
   "outputs": [],
   "source": [
    "g = herramientas()"
   ]
  },
  {
   "cell_type": "code",
   "execution_count": null,
   "metadata": {},
   "outputs": [
    {
     "data": {
      "text/plain": [
       "False"
      ]
     },
     "execution_count": 34,
     "metadata": {},
     "output_type": "execute_result"
    }
   ],
   "source": [
    "g.verif_prim(4)"
   ]
  },
  {
   "cell_type": "code",
   "execution_count": null,
   "metadata": {},
   "outputs": [
    {
     "data": {
      "text/plain": [
       "87.8"
      ]
     },
     "execution_count": 35,
     "metadata": {},
     "output_type": "execute_result"
    }
   ],
   "source": [
    "g.conver_temp(31,'celsius','farenheit')"
   ]
  },
  {
   "cell_type": "code",
   "execution_count": null,
   "metadata": {},
   "outputs": [
    {
     "name": "stdout",
     "output_type": "stream",
     "text": [
      "El factorial de 5 es 120\n"
     ]
    }
   ],
   "source": [
    "g.factorial_num(5)"
   ]
  },
  {
   "cell_type": "code",
   "execution_count": null,
   "metadata": {},
   "outputs": [
    {
     "data": {
      "text/plain": [
       "(2, 6)"
      ]
     },
     "execution_count": 37,
     "metadata": {},
     "output_type": "execute_result"
    }
   ],
   "source": [
    "lista = [1,2,3,4,2,2,3,4,5,6,7,6,5,4,2,2,2]\n",
    "\n",
    "g.lista_num(lista)"
   ]
  },
  {
   "attachments": {},
   "cell_type": "markdown",
   "metadata": {},
   "source": [
    "7) Es necesario que la clase creada en el punto 5 contenga una lista, sobre la cual se apliquen las funciones incorporadas"
   ]
  },
  {
   "cell_type": "code",
   "execution_count": 48,
   "metadata": {},
   "outputs": [],
   "source": [
    "class herramientas:\n",
    "    def __init__(self, lista_num):\n",
    "        self.lista = lista_num\n",
    "\n",
    "    def verif_prim(self):\n",
    "        for i in self.lista:\n",
    "            if (self.verif_prim_(i)):\n",
    "                print(f'El numero: {i} si es primo')\n",
    "            else:\n",
    "                print(f'El numero: {i} no es primo')\n",
    "   \n",
    "    def verif_prim_(self, num):\n",
    "        si_primo = True\n",
    "        for i in range(2, num):\n",
    "            if num % i == 0:\n",
    "                si_primo = False\n",
    "                break\n",
    "        return si_primo     \n",
    "\n",
    "    def lista_num(self, listaa):\n",
    "        lis_unicos = []\n",
    "        lis_repet = []\n",
    "        for elem in self.lista:\n",
    "            if elem in lis_unicos:\n",
    "                i = lis_unicos.index(elem)\n",
    "                lis_repet[i] += 1\n",
    "            else:\n",
    "                lis_unicos.append(elem)\n",
    "                lis_repet.append(1)\n",
    "        moda = lis_unicos[0]\n",
    "        maxi = lis_repet[0]\n",
    "        for i, elem in enumerate(lis_unicos):\n",
    "            if lis_repet[i] > maxi:\n",
    "                moda = lis_unicos[i]\n",
    "                maxi = lis_repet[i]\n",
    "\n",
    "        return moda, maxi\n",
    "\n",
    "    def conver_temp(self, origen, destino):\n",
    "        for i in self.lista:\n",
    "            print(f'{i} grados en {origen} son {self.conver_temp_(i, origen, destino)} grados en {destino}')\n",
    "            \n",
    "    def conver_temp_(self, valor, temp_1, temp_2):\n",
    "\n",
    "        if temp_1 == 'celsius':\n",
    "            if temp_2 == 'celsius':\n",
    "                valor_temp_2 = valor  \n",
    "            elif temp_2 == 'farenheit':\n",
    "                valor_temp_2 = (valor * 9 / 5) + 32  \n",
    "            elif temp_2 == 'kelvin':\n",
    "                valor_temp_2 = valor + 273.15  \n",
    "            else:\n",
    "                print('Parámetro de Temp_2 incorrecto')  \n",
    "        elif temp_1 == 'farenheit':\n",
    "            if temp_2 == 'celsius':\n",
    "                valor_temp_2 = (valor - 32) * 5 / 9  \n",
    "            elif temp_2 == 'farenheit':\n",
    "                valor_temp_2 = valor  \n",
    "            elif temp_2 == 'kelvin':\n",
    "                valor_temp_2 = ((valor - 32) * 5 / 9) + 273.15  \n",
    "            else:\n",
    "                print('Parámetro de Temp_2 incorrecto')  \n",
    "        elif temp_1 == 'kelvin':\n",
    "            if temp_2 == 'celsius':\n",
    "                valor_temp_2 = valor - 273.15 \n",
    "            elif temp_2 == 'farenheit':\n",
    "                valor_temp_2 = ((valor - 273.15) * 9 / 5) + 32  \n",
    "            elif temp_2 == 'kelvin':\n",
    "                valor_temp_2 = valor  \n",
    "            else:\n",
    "                print('Parámetro de Temp_2 incorrecto')  \n",
    "        else:\n",
    "            print('Parámetro de Temp_1 incorrecto') \n",
    "        \n",
    "        return valor_temp_2  \n",
    "    \n",
    "    def factorial_num(self, num):\n",
    "        factor = 1\n",
    "        if type(num) == int:\n",
    "            if num == 0:\n",
    "                print('El factorial es 1')\n",
    "            elif num > 0:\n",
    "                for i in range(2, (num + 1)):\n",
    "                    factor *= i\n",
    "                print(f'El factorial de {num} es {factor}')\n",
    "            else:\n",
    "                    print('El numero es menor a cero, no tiene factorial')\n",
    "        else:\n",
    "            print('el numero no es un entero') "
   ]
  },
  {
   "cell_type": "code",
   "execution_count": 51,
   "metadata": {},
   "outputs": [],
   "source": [
    "h = herramientas([1,1,2,5,8,8,9,11,15,16,16,16,18,20])"
   ]
  },
  {
   "cell_type": "code",
   "execution_count": 50,
   "metadata": {},
   "outputs": [
    {
     "name": "stdout",
     "output_type": "stream",
     "text": [
      "1 grados en celsius son 33.8 grados en farenheit\n",
      "1 grados en celsius son 33.8 grados en farenheit\n",
      "2 grados en celsius son 35.6 grados en farenheit\n",
      "5 grados en celsius son 41.0 grados en farenheit\n",
      "8 grados en celsius son 46.4 grados en farenheit\n",
      "8 grados en celsius son 46.4 grados en farenheit\n",
      "9 grados en celsius son 48.2 grados en farenheit\n",
      "11 grados en celsius son 51.8 grados en farenheit\n",
      "15 grados en celsius son 59.0 grados en farenheit\n",
      "16 grados en celsius son 60.8 grados en farenheit\n",
      "16 grados en celsius son 60.8 grados en farenheit\n",
      "16 grados en celsius son 60.8 grados en farenheit\n",
      "18 grados en celsius son 64.4 grados en farenheit\n",
      "20 grados en celsius son 68.0 grados en farenheit\n"
     ]
    }
   ],
   "source": [
    "h.conver_temp('celsius','farenheit')"
   ]
  },
  {
   "cell_type": "code",
   "execution_count": 52,
   "metadata": {},
   "outputs": [
    {
     "name": "stdout",
     "output_type": "stream",
     "text": [
      "El numero: 1 si es primo\n",
      "El numero: 1 si es primo\n",
      "El numero: 2 si es primo\n",
      "El numero: 5 si es primo\n",
      "El numero: 8 no es primo\n",
      "El numero: 8 no es primo\n",
      "El numero: 9 no es primo\n",
      "El numero: 11 si es primo\n",
      "El numero: 15 no es primo\n",
      "El numero: 16 no es primo\n",
      "El numero: 16 no es primo\n",
      "El numero: 16 no es primo\n",
      "El numero: 18 no es primo\n",
      "El numero: 20 no es primo\n"
     ]
    }
   ],
   "source": [
    "h.verif_prim()"
   ]
  },
  {
   "cell_type": "code",
   "execution_count": 42,
   "metadata": {},
   "outputs": [
    {
     "name": "stdout",
     "output_type": "stream",
     "text": [
      "El valor más repetido es 16, y se repite 3 veces\n"
     ]
    }
   ],
   "source": [
    "(mod, rep) = h.lista_num()\n",
    "\n",
    "print(f'El valor más repetido es {mod}, y se repite {rep} veces')"
   ]
  },
  {
   "attachments": {},
   "cell_type": "markdown",
   "metadata": {},
   "source": [
    "8) Crear un archivo .py aparte y ubicar allí la clase generada en el punto anterior. Luego realizar la importación del módulo y probar alguna de sus funciones"
   ]
  },
  {
   "cell_type": "code",
   "execution_count": 54,
   "metadata": {},
   "outputs": [],
   "source": [
    "from herramientas import *"
   ]
  },
  {
   "cell_type": "code",
   "execution_count": 55,
   "metadata": {},
   "outputs": [],
   "source": [
    "h2 = herramientas([1,2,3,4,4,5,6,7,8,9])"
   ]
  },
  {
   "cell_type": "code",
   "execution_count": 56,
   "metadata": {},
   "outputs": [
    {
     "name": "stdout",
     "output_type": "stream",
     "text": [
      "El numero: 1 si es primo\n",
      "El numero: 2 si es primo\n",
      "El numero: 3 si es primo\n",
      "El numero: 4 no es primo\n",
      "El numero: 4 no es primo\n",
      "El numero: 5 si es primo\n",
      "El numero: 6 no es primo\n",
      "El numero: 7 si es primo\n",
      "El numero: 8 no es primo\n",
      "El numero: 9 no es primo\n"
     ]
    }
   ],
   "source": [
    "h2.verif_prim()"
   ]
  }
 ],
 "metadata": {
  "interpreter": {
   "hash": "c85384e4cb51c8b72350f3a8712cc8351fdc3955e32a27f9b60c6242ab125f01"
  },
  "kernelspec": {
   "display_name": "Python 3 (ipykernel)",
   "language": "python",
   "name": "python3"
  },
  "language_info": {
   "codemirror_mode": {
    "name": "ipython",
    "version": 3
   },
   "file_extension": ".py",
   "mimetype": "text/x-python",
   "name": "python",
   "nbconvert_exporter": "python",
   "pygments_lexer": "ipython3",
   "version": "3.11.9"
  }
 },
 "nbformat": 4,
 "nbformat_minor": 4
}
