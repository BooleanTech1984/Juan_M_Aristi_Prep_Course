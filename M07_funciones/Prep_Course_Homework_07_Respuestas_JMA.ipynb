{
 "cells": [
  {
   "attachments": {},
   "cell_type": "markdown",
   "metadata": {},
   "source": [
    "## Funciones"
   ]
  },
  {
   "attachments": {},
   "cell_type": "markdown",
   "metadata": {},
   "source": [
    "1) Crear una función que reciba un número como parámetro y devuelva True si es primo y False si no lo es"
   ]
  },
  {
   "cell_type": "code",
   "execution_count": 47,
   "metadata": {},
   "outputs": [],
   "source": [
    "def verif_prim(num):\n",
    "    si_primo = True\n",
    "    for i in range(2, num):\n",
    "        if num % i == 0:\n",
    "            si_primo = False\n",
    "            break\n",
    "    return si_primo   \n",
    " "
   ]
  },
  {
   "attachments": {},
   "cell_type": "markdown",
   "metadata": {},
   "source": [
    "2) Utilizando la función del punto 1, realizar otra función que reciba de parámetro una lista de números y devuelva sólo aquellos que son primos en otra lista"
   ]
  },
  {
   "cell_type": "code",
   "execution_count": 48,
   "metadata": {},
   "outputs": [],
   "source": [
    "def extract_primos(lista):\n",
    "    lista_primos = []\n",
    "    for i in lista:\n",
    "        if verif_prim(int(i)):\n",
    "            lista_primos.append(i)\n",
    "    return lista_primos  "
   ]
  },
  {
   "cell_type": "code",
   "execution_count": 49,
   "metadata": {},
   "outputs": [
    {
     "data": {
      "text/plain": [
       "[1, 2, 3, 5, 7, 11, 13, 17, 19]"
      ]
     },
     "execution_count": 49,
     "metadata": {},
     "output_type": "execute_result"
    }
   ],
   "source": [
    "lista1 = [1,2,3,5,6,7,8,9,10,11,12,13,14,15,16,17,18,19]\n",
    "lista_primos = extract_primos(lista1)\n",
    "lista_primos"
   ]
  },
  {
   "cell_type": "code",
   "execution_count": 68,
   "metadata": {},
   "outputs": [
    {
     "data": {
      "text/plain": [
       "[1, 2, 3, 5, 7, 11, 13, 17, 19]"
      ]
     },
     "execution_count": 68,
     "metadata": {},
     "output_type": "execute_result"
    }
   ],
   "source": [
    "def verif_prim(num):\n",
    "    si_primo = True\n",
    "    for i in range(2, num):\n",
    "        if num % i == 0:\n",
    "            si_primo = False\n",
    "            break\n",
    "    return si_primo   \n",
    "\n",
    "def extract_primos(lista):\n",
    "    lista_primos = []\n",
    "    for i in lista:\n",
    "        if verif_prim(int(i)):\n",
    "            lista_primos.append(i)\n",
    "    return lista_primos  \n",
    "    \n",
    "lista1 = [1,2,3,5,6,7,8,9,10,11,12,13,14,15,16,17,18,19]\n",
    "lista_primos = extract_primos(lista1)\n",
    "lista_primos"
   ]
  },
  {
   "attachments": {},
   "cell_type": "markdown",
   "metadata": {},
   "source": [
    "3) Crear una función que al recibir una lista de números, devuelva el que más se repite y cuántas veces lo hace. Si hay más de un \"más repetido\", que devuelva cualquiera"
   ]
  },
  {
   "cell_type": "code",
   "execution_count": 59,
   "metadata": {},
   "outputs": [],
   "source": [
    "def lista_num(lista2):\n",
    "    lis_unicos = []\n",
    "    lis_repet = []\n",
    "    for elem in lista2:\n",
    "        if elem in lis_unicos:\n",
    "            i = lis_unicos.index(elem)\n",
    "            lis_repet[i] += 1\n",
    "        else:\n",
    "            lis_unicos.append(elem)\n",
    "            lis_repet.append(1)\n",
    "    moda = lis_unicos[0]\n",
    "    maxi = lis_repet[0]\n",
    "    for i, elem in enumerate(lis_unicos):\n",
    "        if lis_repet[i] > maxi:\n",
    "            moda = lis_unicos[i]\n",
    "            maxi = lis_repet[i]\n",
    "\n",
    "    return moda, maxi\n"
   ]
  },
  {
   "cell_type": "code",
   "execution_count": 60,
   "metadata": {},
   "outputs": [
    {
     "data": {
      "text/plain": [
       "(2, 5)"
      ]
     },
     "execution_count": 60,
     "metadata": {},
     "output_type": "execute_result"
    }
   ],
   "source": [
    "lis_prueb = [1,1,2,2,2,3,4,5,6,6,6,7,8,3,5,2,7,8,9,3,2,5]\n",
    "lista_num(lis_prueb)\n"
   ]
  },
  {
   "attachments": {},
   "cell_type": "markdown",
   "metadata": {},
   "source": [
    "4) Crear una función que convierta entre grados Celsius, Farenheit y Kelvin<br>\n",
    "Fórmula 1\t: (°C × 9/5) + 32 = °F<br>\n",
    "Fórmula 2\t: °C + 273.15 = °K<br>\n",
    "Debe recibir 3 parámetros: el valor, la medida de orígen y la medida de destino\n"
   ]
  },
  {
   "cell_type": "code",
   "execution_count": 63,
   "metadata": {},
   "outputs": [],
   "source": [
    "def conver_temp(valor, temp_1, temp_2):\n",
    "\n",
    "    if temp_1 == 'celsius':\n",
    "        if temp_2 == 'celsius':\n",
    "            valor_temp_2 = valor  \n",
    "        elif temp_2 == 'farenheit':\n",
    "            valor_temp_2 = (valor * 9 / 5) + 32  \n",
    "        elif temp_2 == 'kelvin':\n",
    "            valor_temp_2 = valor + 273.15  \n",
    "        else:\n",
    "            print('Parámetro de Temp_2 incorrecto')  \n",
    "    elif temp_1 == 'farenheit':\n",
    "        if temp_2 == 'celsius':\n",
    "            valor_temp_2 = (valor - 32) * 5 / 9  \n",
    "        elif temp_2 == 'farenheit':\n",
    "            valor_temp_2 = valor  \n",
    "        elif temp_2 == 'kelvin':\n",
    "            valor_temp_2 = ((valor - 32) * 5 / 9) + 273.15  \n",
    "        else:\n",
    "            print('Parámetro de Temp_2 incorrecto')  \n",
    "    elif temp_1 == 'kelvin':\n",
    "        if temp_2 == 'celsius':\n",
    "            valor_temp_2 = valor - 273.15 \n",
    "        elif temp_2 == 'farenheit':\n",
    "            valor_temp_2 = ((valor - 273.15) * 9 / 5) + 32  \n",
    "        elif temp_2 == 'kelvin':\n",
    "            valor_temp_2 = valor  \n",
    "        else:\n",
    "            print('Parámetro de Temp_2 incorrecto')  \n",
    "    else:\n",
    "        print('Parámetro de Temp_1 incorrecto') \n",
    "    \n",
    "    return valor_temp_2  \n"
   ]
  },
  {
   "cell_type": "code",
   "execution_count": 66,
   "metadata": {},
   "outputs": [
    {
     "data": {
      "text/plain": [
       "86.0"
      ]
     },
     "execution_count": 66,
     "metadata": {},
     "output_type": "execute_result"
    }
   ],
   "source": [
    "conver_temp(30, 'celsius', 'farenheit')"
   ]
  },
  {
   "attachments": {},
   "cell_type": "markdown",
   "metadata": {},
   "source": [
    "5) Iterando una lista con los tres valores posibles de temperatura que recibe la función del punto 5, hacer un print para cada combinación de los mismos:"
   ]
  },
  {
   "cell_type": "code",
   "execution_count": 69,
   "metadata": {},
   "outputs": [
    {
     "name": "stdout",
     "output_type": "stream",
     "text": [
      "1 grado celsius, a celsius es igual a: 1\n",
      "1 grado celsius, a farenheit es igual a: 33.8\n",
      "1 grado celsius, a kelvin es igual a: 274.15\n",
      "1 grado farenheit, a celsius es igual a: -17.22222222222222\n",
      "1 grado farenheit, a farenheit es igual a: 1\n",
      "1 grado farenheit, a kelvin es igual a: 255.92777777777775\n",
      "1 grado kelvin, a celsius es igual a: -272.15\n",
      "1 grado kelvin, a farenheit es igual a: -457.87\n",
      "1 grado kelvin, a kelvin es igual a: 1\n"
     ]
    }
   ],
   "source": [
    "lista_temp = ['celsius','farenheit','kelvin']\n",
    "\n",
    "for i in range(0, 3):\n",
    "    for j in range(0, 3):\n",
    "        print(f'1 grado {lista_temp[i]}, a {lista_temp[j]} es igual a:', conver_temp(1, lista_temp[i], lista_temp[j]) )"
   ]
  },
  {
   "attachments": {},
   "cell_type": "markdown",
   "metadata": {},
   "source": [
    "6) Armar una función que devuelva el factorial de un número. Tener en cuenta que el usuario puede equivocarse y enviar de parámetro un número no entero o negativo"
   ]
  },
  {
   "cell_type": "code",
   "execution_count": 75,
   "metadata": {},
   "outputs": [],
   "source": [
    "def factorial_num(num):\n",
    "    factor = 1\n",
    "    if type(num) == int:\n",
    "        if num == 0:\n",
    "            print('El factorial es 1')\n",
    "        elif num > 0:\n",
    "            for i in range(2, (num + 1)):\n",
    "             factor *= i\n",
    "            print(f'El factorial de {num} es {factor}')\n",
    "        else:\n",
    "                print('El numero es menor a cero, no tiene factorial')\n",
    "    else:\n",
    "        print('el numero no es un entero') "
   ]
  },
  {
   "cell_type": "code",
   "execution_count": 77,
   "metadata": {},
   "outputs": [
    {
     "name": "stdout",
     "output_type": "stream",
     "text": [
      "El factorial de 4 es 24\n"
     ]
    }
   ],
   "source": [
    "factorial_num(4)"
   ]
  }
 ],
 "metadata": {
  "interpreter": {
   "hash": "c85384e4cb51c8b72350f3a8712cc8351fdc3955e32a27f9b60c6242ab125f01"
  },
  "kernelspec": {
   "display_name": "Python 3 (ipykernel)",
   "language": "python",
   "name": "python3"
  },
  "language_info": {
   "codemirror_mode": {
    "name": "ipython",
    "version": 3
   },
   "file_extension": ".py",
   "mimetype": "text/x-python",
   "name": "python",
   "nbconvert_exporter": "python",
   "pygments_lexer": "ipython3",
   "version": "3.11.9"
  }
 },
 "nbformat": 4,
 "nbformat_minor": 4
}
