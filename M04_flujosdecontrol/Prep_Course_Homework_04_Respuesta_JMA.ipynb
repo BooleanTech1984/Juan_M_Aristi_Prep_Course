{
 "cells": [
  {
   "attachments": {},
   "cell_type": "markdown",
   "metadata": {},
   "source": [
    "## Flujos de Control"
   ]
  },
  {
   "attachments": {},
   "cell_type": "markdown",
   "metadata": {},
   "source": [
    "1) Crear una variable que contenga un elemento del conjunto de números enteros y luego imprimir por pantalla si es mayor o menor a cero"
   ]
  },
  {
   "cell_type": "code",
   "execution_count": 42,
   "metadata": {},
   "outputs": [
    {
     "name": "stdout",
     "output_type": "stream",
     "text": [
      "La variable es cero\n"
     ]
    }
   ],
   "source": [
    "var1 = 0\n",
    "if var1 > 0:\n",
    "    print('La variable es mayor a cero')\n",
    "elif var1 < 0:\n",
    "    print('La variable es menor a cero')\n",
    "else:\n",
    "    print('La variable es cero')"
   ]
  },
  {
   "attachments": {},
   "cell_type": "markdown",
   "metadata": {},
   "source": [
    "2) Crear dos variables y un condicional que informe si son del mismo tipo de dato"
   ]
  },
  {
   "cell_type": "code",
   "execution_count": 8,
   "metadata": {},
   "outputs": [
    {
     "name": "stdout",
     "output_type": "stream",
     "text": [
      "las variables son de distinto tipo de dato\n"
     ]
    }
   ],
   "source": [
    "var2 = 2\n",
    "var3 = 'saludo'\n",
    "if type(var2) == type(var3):\n",
    "    print('Las variables son del mismo tipo de dato')\n",
    "else:\n",
    "    print('las variables son de distinto tipo de dato')\n"
   ]
  },
  {
   "attachments": {},
   "cell_type": "markdown",
   "metadata": {},
   "source": [
    "3) Para los valores enteros del 1 al 20, imprimir por pantalla si es par o impar"
   ]
  },
  {
   "cell_type": "code",
   "execution_count": 12,
   "metadata": {},
   "outputs": [
    {
     "name": "stdout",
     "output_type": "stream",
     "text": [
      "El numero 0 es par\n",
      "El numero 1 es impar\n",
      "El numero 2 es par\n",
      "El numero 3 es impar\n",
      "El numero 4 es par\n",
      "El numero 5 es impar\n",
      "El numero 6 es par\n",
      "El numero 7 es impar\n",
      "El numero 8 es par\n",
      "El numero 9 es impar\n",
      "El numero 10 es par\n",
      "El numero 11 es impar\n",
      "El numero 12 es par\n",
      "El numero 13 es impar\n",
      "El numero 14 es par\n",
      "El numero 15 es impar\n",
      "El numero 16 es par\n",
      "El numero 17 es impar\n",
      "El numero 18 es par\n",
      "El numero 19 es impar\n",
      "El numero 20 es par\n"
     ]
    }
   ],
   "source": [
    "for i in range(0,21):\n",
    "    if i % 2 == 0:\n",
    "        print(f'El numero {i} es par')\n",
    "    else:\n",
    "        print(f'El numero {i} es impar')"
   ]
  },
  {
   "attachments": {},
   "cell_type": "markdown",
   "metadata": {},
   "source": [
    "4) En un ciclo for mostrar para los valores entre 0 y 5 el resultado de elevarlo a la potencia igual a 3"
   ]
  },
  {
   "cell_type": "code",
   "execution_count": 13,
   "metadata": {},
   "outputs": [
    {
     "name": "stdout",
     "output_type": "stream",
     "text": [
      "el valor de 0 elevado a la tercera potencia es: 0\n",
      "el valor de 1 elevado a la tercera potencia es: 1\n",
      "el valor de 2 elevado a la tercera potencia es: 8\n",
      "el valor de 3 elevado a la tercera potencia es: 27\n",
      "el valor de 4 elevado a la tercera potencia es: 64\n",
      "el valor de 5 elevado a la tercera potencia es: 125\n"
     ]
    }
   ],
   "source": [
    "for i in range(0,6):\n",
    "    print(f'el valor de {i} elevado a la tercera potencia es: {i**3}')"
   ]
  },
  {
   "attachments": {},
   "cell_type": "markdown",
   "metadata": {},
   "source": [
    "5) Crear una variable que contenga un número entero y realizar un ciclo for la misma cantidad de ciclos"
   ]
  },
  {
   "cell_type": "code",
   "execution_count": 21,
   "metadata": {},
   "outputs": [
    {
     "name": "stdout",
     "output_type": "stream",
     "text": [
      "La variable es: 5\n",
      "numero de ciclos 5\n"
     ]
    }
   ],
   "source": [
    "var4 = 5\n",
    "for i in range(0, n + 1):\n",
    "    pass\n",
    "print(f'La variable es: {var4}')\n",
    "print(f'numero de ciclos {i}')\n",
    "    "
   ]
  },
  {
   "attachments": {},
   "cell_type": "markdown",
   "metadata": {},
   "source": [
    "6) Utilizar un ciclo while para realizar el factorial de un número guardado en una variable, sólo si la variable contiene un número entero mayor a 0"
   ]
  },
  {
   "cell_type": "code",
   "execution_count": 4,
   "metadata": {},
   "outputs": [
    {
     "name": "stdout",
     "output_type": "stream",
     "text": [
      "El factorial de 7 es 5040\n"
     ]
    }
   ],
   "source": [
    "var5 = 7\n",
    "var6 = var5\n",
    "\n",
    "if type(var5) == int:\n",
    "    if var5 == 0:\n",
    "        print('El factorial es 1')\n",
    "    elif var5 > 0:\n",
    "        factor = var5\n",
    "        while var5 >2:\n",
    "            var5 -= 1\n",
    "            factor *= var5\n",
    "        print(f'El factorial de {var6} es {factor}')\n",
    "    else:\n",
    "       print('El numero es menor a cero, no tiene factorial')\n",
    "else:\n",
    "    print('el numero no es un entero') \n",
    "\n",
    " \n",
    "\n",
    "    "
   ]
  },
  {
   "cell_type": "markdown",
   "metadata": {},
   "source": [
    "Ahora con cliclo for, hacer el factorial de un numero entero"
   ]
  },
  {
   "cell_type": "code",
   "execution_count": 7,
   "metadata": {},
   "outputs": [
    {
     "name": "stdout",
     "output_type": "stream",
     "text": [
      "El factorial de 7 es 5040\n"
     ]
    }
   ],
   "source": [
    "var5 = 7\n",
    "factor = 1\n",
    "\n",
    "if type(var5) == int:\n",
    "    if var5 == 0:\n",
    "        print('El factorial es 1')\n",
    "    elif var5 > 0:\n",
    "        for i in range(2, (var5 + 1)):\n",
    "            factor *= i\n",
    "        print(f'El factorial de {var5} es {factor}')\n",
    "    else:\n",
    "        print('El numero es menor a cero, no tiene factorial')\n",
    "else:\n",
    "    print('el numero no es un entero') \n",
    "        "
   ]
  },
  {
   "attachments": {},
   "cell_type": "markdown",
   "metadata": {},
   "source": [
    "7) Crear un ciclo for dentro de un ciclo while"
   ]
  },
  {
   "cell_type": "code",
   "execution_count": 22,
   "metadata": {},
   "outputs": [
    {
     "name": "stdout",
     "output_type": "stream",
     "text": [
      "Ciclo while # 1\n",
      "Ciclo for # 1\n",
      "Ciclo for # 2\n",
      "Ciclo for # 3\n",
      "Ciclo while # 2\n",
      "Ciclo for # 1\n",
      "Ciclo for # 2\n",
      "Ciclo for # 3\n",
      "Ciclo while # 3\n",
      "Ciclo for # 1\n",
      "Ciclo for # 2\n",
      "Ciclo for # 3\n"
     ]
    }
   ],
   "source": [
    "x = 3\n",
    "cont =1\n",
    "while cont <= x:\n",
    "    print(f'Ciclo while # {cont}')\n",
    "    for i in range(1, (x+1)):\n",
    "        print(f'Ciclo for # {i}')\n",
    "    cont += 1\n",
    "    \n"
   ]
  },
  {
   "attachments": {},
   "cell_type": "markdown",
   "metadata": {},
   "source": [
    "8) Crear un ciclo while dentro de un ciclo for"
   ]
  },
  {
   "cell_type": "code",
   "execution_count": 21,
   "metadata": {},
   "outputs": [
    {
     "name": "stdout",
     "output_type": "stream",
     "text": [
      "Ciclo for # 1\n",
      "El ciclo while # 1\n",
      "El ciclo while # 2\n",
      "El ciclo while # 3\n",
      "Ciclo for # 2\n",
      "El ciclo while # 1\n",
      "El ciclo while # 2\n",
      "El ciclo while # 3\n",
      "Ciclo for # 3\n",
      "El ciclo while # 1\n",
      "El ciclo while # 2\n",
      "El ciclo while # 3\n"
     ]
    }
   ],
   "source": [
    "y = 3\n",
    "cont1 = 1\n",
    "for i in range(1, (y+1)):\n",
    "    print(f'Ciclo for # {i}')\n",
    "    while cont1 <= y:\n",
    "        print(f'El ciclo while # {cont1}')\n",
    "        cont1 += 1\n",
    "    cont1 = 1\n"
   ]
  },
  {
   "attachments": {},
   "cell_type": "markdown",
   "metadata": {},
   "source": [
    "9) Imprimir los números primos existentes entre 0 y 30"
   ]
  },
  {
   "cell_type": "code",
   "execution_count": 35,
   "metadata": {},
   "outputs": [
    {
     "name": "stdout",
     "output_type": "stream",
     "text": [
      "El numero primo es 0\n",
      "El numero primo es 1\n",
      "El numero primo es 2\n",
      "El numero primo es 3\n",
      "El numero primo es 5\n",
      "El numero primo es 7\n",
      "El numero primo es 11\n",
      "El numero primo es 13\n",
      "El numero primo es 17\n",
      "El numero primo es 19\n",
      "El numero primo es 23\n",
      "El numero primo es 29\n"
     ]
    }
   ],
   "source": [
    "nmax = 30\n",
    "p = 0\n",
    "n_primo = True\n",
    "\n",
    "while p < nmax:\n",
    "    for i in range(2, (p)):\n",
    "        if p % i == 0:\n",
    "            n_primo = False        \n",
    "    if (n_primo):\n",
    "        print(f'El numero primo es {p}')\n",
    "    else:\n",
    "        n_primo = True\n",
    "    p += 1\n",
    "    \n",
    "               "
   ]
  },
  {
   "attachments": {},
   "cell_type": "markdown",
   "metadata": {},
   "source": [
    "10) ¿Se puede mejorar el proceso del punto 9? Utilizar las sentencias break y/ó continue para tal fin"
   ]
  },
  {
   "cell_type": "code",
   "execution_count": 36,
   "metadata": {},
   "outputs": [
    {
     "name": "stdout",
     "output_type": "stream",
     "text": [
      "El numero primo es 0\n",
      "El numero primo es 1\n",
      "El numero primo es 2\n",
      "El numero primo es 3\n",
      "El numero primo es 5\n",
      "El numero primo es 7\n",
      "El numero primo es 11\n",
      "El numero primo es 13\n",
      "El numero primo es 17\n",
      "El numero primo es 19\n",
      "El numero primo es 23\n",
      "El numero primo es 29\n"
     ]
    }
   ],
   "source": [
    "nmax = 30\n",
    "p = 0\n",
    "n_primo = True\n",
    "\n",
    "while p < nmax:\n",
    "    for i in range(2, (p)):\n",
    "        if p % i == 0:\n",
    "            n_primo = False\n",
    "            break        \n",
    "    if (n_primo):\n",
    "        print(f'El numero primo es {p}')\n",
    "    else:\n",
    "        n_primo = True\n",
    "    p += 1"
   ]
  },
  {
   "attachments": {},
   "cell_type": "markdown",
   "metadata": {},
   "source": [
    "11) En los puntos 9 y 10, se diseño un código que encuentra números primos y además se lo optimizó. ¿Es posible saber en qué medida se optimizó?"
   ]
  },
  {
   "cell_type": "markdown",
   "metadata": {},
   "source": [
    "Porque para el ciclo del for cada vez que se inicia, por lo tanto disminuye el numero de pasos para encontra el siguiente numero primo"
   ]
  },
  {
   "cell_type": "code",
   "execution_count": 38,
   "metadata": {},
   "outputs": [
    {
     "name": "stdout",
     "output_type": "stream",
     "text": [
      "El numero primo es 0\n",
      "El numero primo es 1\n",
      "El numero primo es 2\n",
      "El numero primo es 3\n",
      "El numero primo es 5\n",
      "El numero primo es 7\n",
      "El numero primo es 11\n",
      "El numero primo es 13\n",
      "El numero primo es 17\n",
      "El numero primo es 19\n",
      "El numero primo es 23\n",
      "El numero primo es 29\n",
      "Ciclos sin Break 378\n"
     ]
    }
   ],
   "source": [
    "nmax = 30\n",
    "p = 0\n",
    "n_primo = True\n",
    "cic_no_break = 0\n",
    "\n",
    "while p < nmax:\n",
    "    for i in range(2, (p)):\n",
    "        cic_no_break += 1\n",
    "        if p % i == 0:\n",
    "            n_primo = False        \n",
    "    if (n_primo):\n",
    "        print(f'El numero primo es {p}')\n",
    "    else:\n",
    "        n_primo = True\n",
    "    p += 1\n",
    "print(f'Ciclos sin Break {cic_no_break}')"
   ]
  },
  {
   "cell_type": "code",
   "execution_count": 39,
   "metadata": {},
   "outputs": [
    {
     "name": "stdout",
     "output_type": "stream",
     "text": [
      "El numero primo es 0\n",
      "El numero primo es 1\n",
      "El numero primo es 2\n",
      "El numero primo es 3\n",
      "El numero primo es 5\n",
      "El numero primo es 7\n",
      "El numero primo es 11\n",
      "El numero primo es 13\n",
      "El numero primo es 17\n",
      "El numero primo es 19\n",
      "El numero primo es 23\n",
      "El numero primo es 29\n",
      "Ciclos con break 134\n"
     ]
    }
   ],
   "source": [
    "nmax = 30\n",
    "p = 0\n",
    "n_primo = True\n",
    "cic_no_break1 = 0\n",
    "\n",
    "while p < nmax:\n",
    "    for i in range(2, (p)):\n",
    "        cic_no_break1 += 1\n",
    "        if p % i == 0:\n",
    "            n_primo = False\n",
    "            break        \n",
    "    if (n_primo):\n",
    "        print(f'El numero primo es {p}')\n",
    "    else:\n",
    "        n_primo = True\n",
    "    p += 1\n",
    "print(f'Ciclos con break {cic_no_break1}')"
   ]
  },
  {
   "attachments": {},
   "cell_type": "markdown",
   "metadata": {},
   "source": [
    "12) Aplicando continue, armar un ciclo while que solo imprima los valores divisibles por 12, dentro del rango de números de 100 a 300"
   ]
  },
  {
   "cell_type": "code",
   "execution_count": 43,
   "metadata": {},
   "outputs": [
    {
     "name": "stdout",
     "output_type": "stream",
     "text": [
      "El numero 108 es divisible entre 12\n",
      "El numero 120 es divisible entre 12\n",
      "El numero 132 es divisible entre 12\n",
      "El numero 144 es divisible entre 12\n",
      "El numero 156 es divisible entre 12\n",
      "El numero 168 es divisible entre 12\n",
      "El numero 180 es divisible entre 12\n",
      "El numero 192 es divisible entre 12\n",
      "El numero 204 es divisible entre 12\n",
      "El numero 216 es divisible entre 12\n",
      "El numero 228 es divisible entre 12\n",
      "El numero 240 es divisible entre 12\n",
      "El numero 252 es divisible entre 12\n",
      "El numero 264 es divisible entre 12\n",
      "El numero 276 es divisible entre 12\n",
      "El numero 288 es divisible entre 12\n",
      "El numero 300 es divisible entre 12\n"
     ]
    }
   ],
   "source": [
    "w = 99\n",
    "while w <= 300:\n",
    "    w += 1\n",
    "    if w % 12 != 0:\n",
    "        continue\n",
    "    print(f'El numero {w} es divisible entre 12') "
   ]
  },
  {
   "attachments": {},
   "cell_type": "markdown",
   "metadata": {},
   "source": [
    "13) Utilizar la función **input()** que permite hacer ingresos por teclado, para encontrar números primos y dar la opción al usario de buscar el siguiente"
   ]
  },
  {
   "cell_type": "code",
   "execution_count": 46,
   "metadata": {},
   "outputs": [
    {
     "name": "stdout",
     "output_type": "stream",
     "text": [
      "El numero primo es 0\n",
      "El numero primo es 1\n",
      "El numero primo es 2\n",
      "El numero primo es 3\n",
      "El numero primo es 5\n",
      "El numero primo es 7\n",
      "El numero primo es 11\n",
      "El numero primo es 13\n",
      "El numero primo es 17\n",
      "El numero primo es 19\n",
      "El numero primo es 23\n",
      "El numero primo es 29\n",
      "El numero primo es 31\n",
      "El numero primo es 37\n",
      "El numero primo es 41\n",
      "El numero primo es 43\n"
     ]
    }
   ],
   "source": [
    "nmax = int(input('Digite el numero hasta donde desea saber los numeros primos'))\n",
    "p = 0\n",
    "n_primo = True\n",
    "\n",
    "while p < nmax:\n",
    "    for i in range(2, (p)):\n",
    "        if p % i == 0:\n",
    "            n_primo = False\n",
    "            break        \n",
    "    if (n_primo):\n",
    "        print(f'El numero primo es {p}')\n",
    "    else:\n",
    "        n_primo = True\n",
    "    p += 1"
   ]
  },
  {
   "attachments": {},
   "cell_type": "markdown",
   "metadata": {},
   "source": [
    "14) Crear un ciclo while que encuentre dentro del rango de 100 a 300 el primer número divisible por 3 y además múltiplo de 6"
   ]
  },
  {
   "cell_type": "code",
   "execution_count": 51,
   "metadata": {},
   "outputs": [
    {
     "name": "stdout",
     "output_type": "stream",
     "text": [
      "El numero es: 102\n"
     ]
    }
   ],
   "source": [
    "w = 100\n",
    "while w <= 300:\n",
    "    if w % 6 == 0:\n",
    "        print(f'El numero es: {w}')\n",
    "        break\n",
    "    w += 1"
   ]
  }
 ],
 "metadata": {
  "interpreter": {
   "hash": "c85384e4cb51c8b72350f3a8712cc8351fdc3955e32a27f9b60c6242ab125f01"
  },
  "kernelspec": {
   "display_name": "Python 3 (ipykernel)",
   "language": "python",
   "name": "python3"
  },
  "language_info": {
   "codemirror_mode": {
    "name": "ipython",
    "version": 3
   },
   "file_extension": ".py",
   "mimetype": "text/x-python",
   "name": "python",
   "nbconvert_exporter": "python",
   "pygments_lexer": "ipython3",
   "version": "3.11.9"
  }
 },
 "nbformat": 4,
 "nbformat_minor": 4
}
