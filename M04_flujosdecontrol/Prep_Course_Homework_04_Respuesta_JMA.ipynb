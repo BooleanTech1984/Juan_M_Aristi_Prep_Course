{
 "cells": [
  {
   "attachments": {},
   "cell_type": "markdown",
   "metadata": {},
   "source": [
    "## Flujos de Control"
   ]
  },
  {
   "attachments": {},
   "cell_type": "markdown",
   "metadata": {},
   "source": [
    "1) Crear una variable que contenga un elemento del conjunto de números enteros y luego imprimir por pantalla si es mayor o menor a cero"
   ]
  },
  {
   "cell_type": "code",
   "execution_count": 4,
   "metadata": {},
   "outputs": [
    {
     "name": "stdout",
     "output_type": "stream",
     "text": [
      "La variable es menor a cero\n"
     ]
    }
   ],
   "source": [
    "var1 = -12\n",
    "if var1 > 0:\n",
    "    print('La variable es mayor a cero')\n",
    "elif var1 < 0:\n",
    "    print('La variable es menor a cero')\n",
    "else:\n",
    "    print('La variable es cero')"
   ]
  },
  {
   "attachments": {},
   "cell_type": "markdown",
   "metadata": {},
   "source": [
    "2) Crear dos variables y un condicional que informe si son del mismo tipo de dato"
   ]
  },
  {
   "cell_type": "code",
   "execution_count": 8,
   "metadata": {},
   "outputs": [
    {
     "name": "stdout",
     "output_type": "stream",
     "text": [
      "las variables son de distinto tipo de dato\n"
     ]
    }
   ],
   "source": [
    "var2 = 2\n",
    "var3 = 'saludo'\n",
    "if type(var2) == type(var3):\n",
    "    print('Las variables son del mismo tipo de dato')\n",
    "else:\n",
    "    print('las variables son de distinto tipo de dato')\n"
   ]
  },
  {
   "attachments": {},
   "cell_type": "markdown",
   "metadata": {},
   "source": [
    "3) Para los valores enteros del 1 al 20, imprimir por pantalla si es par o impar"
   ]
  },
  {
   "cell_type": "code",
   "execution_count": 12,
   "metadata": {},
   "outputs": [
    {
     "name": "stdout",
     "output_type": "stream",
     "text": [
      "El numero 0 es par\n",
      "El numero 1 es impar\n",
      "El numero 2 es par\n",
      "El numero 3 es impar\n",
      "El numero 4 es par\n",
      "El numero 5 es impar\n",
      "El numero 6 es par\n",
      "El numero 7 es impar\n",
      "El numero 8 es par\n",
      "El numero 9 es impar\n",
      "El numero 10 es par\n",
      "El numero 11 es impar\n",
      "El numero 12 es par\n",
      "El numero 13 es impar\n",
      "El numero 14 es par\n",
      "El numero 15 es impar\n",
      "El numero 16 es par\n",
      "El numero 17 es impar\n",
      "El numero 18 es par\n",
      "El numero 19 es impar\n",
      "El numero 20 es par\n"
     ]
    }
   ],
   "source": [
    "for i in range(0,21):\n",
    "    if i % 2 == 0:\n",
    "        print(f'El numero {i} es par')\n",
    "    else:\n",
    "        print(f'El numero {i} es impar')"
   ]
  },
  {
   "attachments": {},
   "cell_type": "markdown",
   "metadata": {},
   "source": [
    "4) En un ciclo for mostrar para los valores entre 0 y 5 el resultado de elevarlo a la potencia igual a 3"
   ]
  },
  {
   "cell_type": "code",
   "execution_count": 13,
   "metadata": {},
   "outputs": [
    {
     "name": "stdout",
     "output_type": "stream",
     "text": [
      "el valor de 0 elevado a la tercera potencia es: 0\n",
      "el valor de 1 elevado a la tercera potencia es: 1\n",
      "el valor de 2 elevado a la tercera potencia es: 8\n",
      "el valor de 3 elevado a la tercera potencia es: 27\n",
      "el valor de 4 elevado a la tercera potencia es: 64\n",
      "el valor de 5 elevado a la tercera potencia es: 125\n"
     ]
    }
   ],
   "source": [
    "for i in range(0,6):\n",
    "    print(f'el valor de {i} elevado a la tercera potencia es: {i**3}')"
   ]
  },
  {
   "attachments": {},
   "cell_type": "markdown",
   "metadata": {},
   "source": [
    "5) Crear una variable que contenga un número entero y realizar un ciclo for la misma cantidad de ciclos"
   ]
  },
  {
   "cell_type": "code",
   "execution_count": 21,
   "metadata": {},
   "outputs": [
    {
     "name": "stdout",
     "output_type": "stream",
     "text": [
      "La variable es: 5\n",
      "numero de ciclos 5\n"
     ]
    }
   ],
   "source": [
    "var4 = 5\n",
    "for i in range(0, n + 1):\n",
    "    pass\n",
    "print(f'La variable es: {var4}')\n",
    "print(f'numero de ciclos {i}')\n",
    "    "
   ]
  },
  {
   "attachments": {},
   "cell_type": "markdown",
   "metadata": {},
   "source": [
    "6) Utilizar un ciclo while para realizar el factorial de un número guardado en una variable, sólo si la variable contiene un número entero mayor a 0"
   ]
  },
  {
   "cell_type": "code",
   "execution_count": 31,
   "metadata": {},
   "outputs": [
    {
     "name": "stdout",
     "output_type": "stream",
     "text": [
      "El factorial de 5 es 120\n"
     ]
    }
   ],
   "source": [
    "var5 = 5\n",
    "var6 = var5\n",
    "\n",
    "if type(var5) == int:\n",
    "    if var5 == 0:\n",
    "        print('El factorial es 1')\n",
    "    elif var5 > 0:\n",
    "        factor = var5\n",
    "        while var5 >2:\n",
    "            var5 -= 1\n",
    "            factor = factor * var5\n",
    "        print(f'El factorial de {var6} es {factor}')\n",
    "    else:\n",
    "       print('El numero no es mayor a cero, no tiene factorial')\n",
    "else:\n",
    "    print('el numero no es un entero') \n",
    "\n",
    " \n",
    "\n",
    "    "
   ]
  },
  {
   "attachments": {},
   "cell_type": "markdown",
   "metadata": {},
   "source": [
    "7) Crear un ciclo for dentro de un ciclo while"
   ]
  },
  {
   "cell_type": "code",
   "execution_count": null,
   "metadata": {},
   "outputs": [],
   "source": []
  },
  {
   "attachments": {},
   "cell_type": "markdown",
   "metadata": {},
   "source": [
    "8) Crear un ciclo while dentro de un ciclo for"
   ]
  },
  {
   "cell_type": "code",
   "execution_count": null,
   "metadata": {},
   "outputs": [],
   "source": []
  },
  {
   "attachments": {},
   "cell_type": "markdown",
   "metadata": {},
   "source": [
    "9) Imprimir los números primos existentes entre 0 y 30"
   ]
  },
  {
   "cell_type": "code",
   "execution_count": null,
   "metadata": {},
   "outputs": [],
   "source": []
  },
  {
   "attachments": {},
   "cell_type": "markdown",
   "metadata": {},
   "source": [
    "10) ¿Se puede mejorar el proceso del punto 9? Utilizar las sentencias break y/ó continue para tal fin"
   ]
  },
  {
   "cell_type": "code",
   "execution_count": null,
   "metadata": {},
   "outputs": [],
   "source": []
  },
  {
   "attachments": {},
   "cell_type": "markdown",
   "metadata": {},
   "source": [
    "11) En los puntos 9 y 10, se diseño un código que encuentra números primos y además se lo optimizó. ¿Es posible saber en qué medida se optimizó?"
   ]
  },
  {
   "cell_type": "code",
   "execution_count": null,
   "metadata": {},
   "outputs": [],
   "source": []
  },
  {
   "attachments": {},
   "cell_type": "markdown",
   "metadata": {},
   "source": [
    "12) Aplicando continue, armar un ciclo while que solo imprima los valores divisibles por 12, dentro del rango de números de 100 a 300"
   ]
  },
  {
   "cell_type": "code",
   "execution_count": null,
   "metadata": {},
   "outputs": [],
   "source": []
  },
  {
   "attachments": {},
   "cell_type": "markdown",
   "metadata": {},
   "source": [
    "13) Utilizar la función **input()** que permite hacer ingresos por teclado, para encontrar números primos y dar la opción al usario de buscar el siguiente"
   ]
  },
  {
   "cell_type": "code",
   "execution_count": null,
   "metadata": {},
   "outputs": [],
   "source": []
  },
  {
   "attachments": {},
   "cell_type": "markdown",
   "metadata": {},
   "source": [
    "14) Crear un ciclo while que encuentre dentro del rango de 100 a 300 el primer número divisible por 3 y además múltiplo de 6"
   ]
  },
  {
   "cell_type": "code",
   "execution_count": null,
   "metadata": {},
   "outputs": [],
   "source": []
  }
 ],
 "metadata": {
  "interpreter": {
   "hash": "c85384e4cb51c8b72350f3a8712cc8351fdc3955e32a27f9b60c6242ab125f01"
  },
  "kernelspec": {
   "display_name": "Python 3 (ipykernel)",
   "language": "python",
   "name": "python3"
  },
  "language_info": {
   "codemirror_mode": {
    "name": "ipython",
    "version": 3
   },
   "file_extension": ".py",
   "mimetype": "text/x-python",
   "name": "python",
   "nbconvert_exporter": "python",
   "pygments_lexer": "ipython3",
   "version": "3.11.9"
  }
 },
 "nbformat": 4,
 "nbformat_minor": 4
}
